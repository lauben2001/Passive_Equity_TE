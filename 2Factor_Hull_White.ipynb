{
  "cells": [
    {
      "cell_type": "code",
      "execution_count": 29,
      "metadata": {
        "colab": {
          "base_uri": "https://localhost:8080/"
        },
        "id": "jssaq5quRJC_",
        "outputId": "3ddc3bd1-968c-41b2-c3ff-610918e57b98"
      },
      "outputs": [
        {
          "output_type": "stream",
          "name": "stdout",
          "text": [
            "Drive already mounted at /content/drive; to attempt to forcibly remount, call drive.mount(\"/content/drive\", force_remount=True).\n"
          ]
        }
      ],
      "source": [
        "import os\n",
        "import numpy as np\n",
        "import pandas as pd\n",
        "import matplotlib.pyplot as plt\n",
        "import seaborn as sns\n",
        "\n",
        "from scipy.integrate import quad\n",
        "from scipy.optimize import minimize\n",
        "from datetime import datetime as dt\n",
        "\n",
        "#from nelson_siegel_svensson import NelsonSiegelSvenssonCurve\n",
        "#from nelson_siegel_svensson.calibrate import calibrate_nss_ols\n",
        "from google.colab import drive\n",
        "drive.mount(\"/content/drive\")"
      ]
    },
    {
      "cell_type": "markdown",
      "metadata": {
        "id": "3nJN39KXhonR"
      },
      "source": [
        "###Bond Price **Formulas**"
      ]
    },
    {
      "cell_type": "code",
      "source": [
        "def calc_theta_r(kappa, gamma, lambda1,lambda2, sigma1, rho):\n",
        "  theta_r = (kappa * gamma) - (lambda1 * sigma1 * (1-rho**2)**0.5) - lambda2 * sigma1 * rho\n",
        "  return theta_r\n",
        "\n",
        "def calc_theta_h(lambda2, sigma2):\n",
        "  theta_h = -lambda2 * sigma2\n",
        "  return theta_h"
      ],
      "metadata": {
        "id": "8Yp9roDnYQww"
      },
      "execution_count": 35,
      "outputs": []
    },
    {
      "cell_type": "code",
      "source": [
        "def calc_br(kappa, tau):\n",
        "  br = (1 - np.exp(-kappa * tau)) / kappa\n",
        "  return br\n",
        "\n",
        "def calc_bh(beta, kappa, tau):\n",
        "  bh = (1/beta) * (1 - np.exp(-beta * tau)) + (1 / (kappa + beta)) * (np.exp(-kappa * tau) - np.exp(-beta * tau))\n",
        "  return bh"
      ],
      "metadata": {
        "id": "mIPNsdI7Z5fp"
      },
      "execution_count": 14,
      "outputs": []
    },
    {
      "cell_type": "code",
      "source": [
        "def calc_alpha(beta, kappa, gamma, lambda1, lambda2, sigma1, sigma2, rho, tau):\n",
        "  alpha, N = 0, 10000\n",
        "  dphi=tau/N #dphi is width\n",
        "\n",
        "  for i in range(1,N):\n",
        "    # rectangular integration\n",
        "    phi = dphi * (2*i + 1)/2 # midpoint to calculate height\n",
        "\n",
        "    theta_r = calc_theta_r(kappa, gamma, lambda1,lambda2, sigma1, rho)\n",
        "    theta_h = calc_theta_h(lambda2, sigma2)\n",
        "    br = calc_br(kappa, tau)\n",
        "    bh = calc_bh(beta, kappa, tau)\n",
        "\n",
        "    alpha_integral = theta_r * br + theta_h - 0.5 * sigma1**2 + br**2 - rho * sigma1*sigma2 * br * bh - 0.5 * sigma2**2 * bh**2\n",
        "    #Sum it up\n",
        "    alpha += dphi * alpha_integral\n",
        "\n",
        "  return alpha"
      ],
      "metadata": {
        "id": "DrhevT33boii"
      },
      "execution_count": 15,
      "outputs": []
    },
    {
      "cell_type": "code",
      "source": [
        "def hw_bond_price(beta, kappa, gamma, lambda1, lambda2, sigma1, sigma2, rho,r0, h0, tau):\n",
        "  br = calc_br(kappa, tau)\n",
        "  bh = calc_bh(beta, kappa, tau)\n",
        "  alpha = calc_alpha(beta, kappa, gamma, lambda1, lambda2, sigma1, sigma2, rho, tau)\n",
        "\n",
        "  price = np.exp(-alpha - br * r0 - bh * h0)\n",
        "  return price"
      ],
      "metadata": {
        "id": "XDhad5tMeyfB"
      },
      "execution_count": 16,
      "outputs": []
    },
    {
      "cell_type": "markdown",
      "source": [
        "######Old Functions"
      ],
      "metadata": {
        "id": "KZ4UmpQ7hXl5"
      }
    },
    {
      "cell_type": "code",
      "execution_count": 17,
      "metadata": {
        "id": "ZNbbJ6qLhseF"
      },
      "outputs": [],
      "source": [
        "def heston_charfunc1(phi, S0, v0, kappa, theta, sigma, rho, lambd, tau, r, q):\n",
        "\n",
        "  rspi = rho * sigma * phi * 1j\n",
        "  #Level 1\n",
        "  b1 = kappa+lambd - rho * sigma\n",
        "  b2 = kappa+lambd\n",
        "  u1 = 0.5\n",
        "  u2= -0.5\n",
        "  a = kappa * theta\n",
        "\n",
        "  #Level 2\n",
        "  d1 = np.sqrt((rspi - b1)**2 - sigma**2 * (2 * u1 * phi * 1j - phi**2))\n",
        "  d2 = np.sqrt((rspi - b2)**2 - sigma**2 * (2 * u2 * phi * 1j - phi**2))\n",
        "  g1 = (b1 - rspi + d1) / (b1 - rspi - d1)\n",
        "  g2 = (b2 - rspi + d2) / (b2 - rspi - d2)\n",
        "\n",
        "  #Level 3\n",
        "  C1 = (r-q) * phi * 1j * tau + ((kappa * theta)/(sigma**2)) * ((b1 - rspi + d1)*tau - 2 * np.log((1-g1*np.exp(d1*tau))/(1-g1)))\n",
        "  C2 = (r-q) * phi * 1j * tau + ((kappa * theta)/(sigma**2)) * ((b2 - rspi + d2)*tau - 2 * np.log((1-g2*np.exp(d2*tau))/(1-g2)))\n",
        "  D1 = ((b1 - rspi + d1)/(sigma**2)) * ((1- np.exp(d1 * tau))/(1- g1 * np.exp(d1 * tau)))\n",
        "  D2 = ((b2 - rspi + d2)/(sigma**2)) * ((1- np.exp(d2 * tau))/(1- g2 * np.exp(d2 * tau)))\n",
        "\n",
        "  charc1 = np.exp(C1 + D1*v0 + 1j * phi * S0)\n",
        "  charc2 = np.exp(C2 + D2*v0 + 1j * phi * S0)\n",
        "\n",
        "  return charc1"
      ]
    },
    {
      "cell_type": "code",
      "execution_count": 18,
      "metadata": {
        "id": "3jXzG4hxqNLA"
      },
      "outputs": [],
      "source": [
        "def heston_charfunc2(phi, S0, v0, kappa, theta, sigma, rho, lambd, tau, r, q):\n",
        "\n",
        "  rspi = rho * sigma * phi * 1j\n",
        "  #Level 1\n",
        "  b1 = kappa+lambd - rho * sigma\n",
        "  b2 = kappa+lambd\n",
        "  u1 = 0.5\n",
        "  u2= -0.5\n",
        "  a = kappa * theta\n",
        "\n",
        "  #Level 2\n",
        "  d1 = np.sqrt((rspi - b1)**2 - sigma**2 * (2 * u1 * phi * 1j - phi**2))\n",
        "  d2 = np.sqrt((rspi - b2)**2 - sigma**2 * (2 * u2 * phi * 1j - phi**2))\n",
        "  g1 = (b1 - rspi + d1) / (b1 - rspi -d1)\n",
        "  g2 = (b2 - rspi + d2) / (b2 - rspi -d2)\n",
        "\n",
        "  #Level 3\n",
        "  C1 = (r-q) * phi * 1j * tau + ((kappa * theta)/(sigma**2)) * ((b1 - rspi + d1)*tau - 2 * np.log((1-g1*np.exp(d1*tau))/(1-g1)))\n",
        "  C2 = (r-q) * phi * 1j * tau + ((kappa * theta)/(sigma**2)) * ((b2 - rspi + d2)*tau - 2 * np.log((1-g2*np.exp(d2*tau))/(1-g2)))\n",
        "  D1 = ((b1 - rspi + d1)/(sigma**2)) * ((1- np.exp(d1 * tau))/(1- g1 * np.exp(d1 * tau)))\n",
        "  D2 = ((b2 - rspi + d2)/(sigma**2)) * ((1- np.exp(d2 * tau))/(1- g2 * np.exp(d2 * tau)))\n",
        "\n",
        "  charc1 = np.exp(C1 + D1*v0 + 1j * phi * S0)\n",
        "  charc2 = np.exp(C2 + D2*v0 + 1j * phi * S0)\n",
        "\n",
        "  return charc2"
      ]
    },
    {
      "cell_type": "markdown",
      "metadata": {
        "id": "tFDhdcJOpWhB"
      },
      "source": [
        "![image.png](data:image/png;base64,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)"
      ]
    },
    {
      "cell_type": "code",
      "execution_count": 19,
      "metadata": {
        "id": "umvYAeX-h6DZ"
      },
      "outputs": [],
      "source": [
        "def integrand1(phi, S0, v0, kappa, theta, sigma, rho, lambd, tau, r, q):\n",
        "  args = (np.log(S0), v0, kappa, theta, sigma, rho, lambd, tau, r, q)\n",
        "  numerator = np.exp(-1 * 1j * phi *np.log(K))*heston_charfunc1(phi,*args)\n",
        "  denominator = 1j*phi\n",
        "  return numerator/denominator\n",
        "\n",
        "def integrand2(phi, S0, v0, kappa, theta, sigma, rho, lambd, tau, r, q):\n",
        "  args = (np.log(S0), v0, kappa, theta, sigma, rho, lambd, tau, r, q)\n",
        "  numerator = np.exp(-1 * 1j * phi *np.log(K))*heston_charfunc2(phi,*args)\n",
        "  denominator = 1j*phi\n",
        "  return numerator/denominator"
      ]
    },
    {
      "cell_type": "code",
      "execution_count": 20,
      "metadata": {
        "id": "7h_4KbZXp_u_"
      },
      "outputs": [],
      "source": [
        "def heston_price_BF_alt(S0, K, v0, kappa, theta, sigma, rho, lambd, tau, r, q):\n",
        "  args = (S0, v0, kappa, theta, sigma, rho, lambd, tau, r, q)\n",
        "  P1_integral, err1 = np.real( quad(integrand1, 0, 100, args=args) )\n",
        "  P1 = 0.5 + (1 / np.pi)  * P1_integral\n",
        "\n",
        "  P2_integral, err2 = np.real( quad(integrand2, 0, 100, args=args) )\n",
        "  P2 = 0.5 + (1 / np.pi)  * P2_integral\n",
        "\n",
        "  call_price = S0 * P1 - K * np.exp(-(r-q)*tau)*P2\n",
        "  return call_price"
      ]
    },
    {
      "cell_type": "code",
      "execution_count": 21,
      "metadata": {
        "id": "2SS2YWlW3Wju"
      },
      "outputs": [],
      "source": [
        "def heston_price_BF(S0, K, v0, kappa, theta, sigma, rho, lambd, tau, r, q):\n",
        "  args = (np.log(S0), v0, kappa, theta, sigma, rho, lambd, tau, r, q)\n",
        "\n",
        "  P1_integral, umax, N = 0, 100, 10000\n",
        "  dphi=umax/N #dphi is width\n",
        "\n",
        "  for i in range(1,N):\n",
        "    # rectangular integration\n",
        "    phi = dphi * (2*i + 1)/2 # midpoint to calculate height\n",
        "    numerator = np.exp(-1 * 1j * phi *np.log(K))*heston_charfunc1(phi,*args)\n",
        "    denominator = 1j*phi\n",
        "    #Sum it up\n",
        "    P1_integral += dphi * numerator/denominator\n",
        "\n",
        "  P2_integral, umax, N = 0, 100, 10000\n",
        "  dphi=umax/N #dphi is width\n",
        "\n",
        "  for i in range(1,N):\n",
        "    # rectangular integration\n",
        "    phi = dphi * (2*i + 1)/2 # midpoint to calculate height\n",
        "    numerator = np.exp(-1 * 1j * phi *np.log(K))*heston_charfunc2(phi,*args)\n",
        "    denominator = 1j*phi\n",
        "    #Sum it up\n",
        "    P2_integral += dphi * numerator/denominator\n",
        "\n",
        "  P1 = 0.5 + (1 / np.pi)  * P1_integral\n",
        "  P2 = 0.5 + (1 / np.pi)  * P2_integral\n",
        "\n",
        "  call_price = np.real(S0 * P1 - K * np.exp(-(r-q)*tau)*P2)\n",
        "  return call_price"
      ]
    },
    {
      "cell_type": "code",
      "execution_count": 22,
      "metadata": {
        "id": "_ajYwvsqsVdd"
      },
      "outputs": [],
      "source": [
        "# Parameters to test model\n",
        "\n",
        "\n",
        "\n",
        "\n"
      ]
    },
    {
      "cell_type": "markdown",
      "metadata": {
        "id": "s6ASsXtGaSha"
      },
      "source": [
        "###German Government Bond **Calibration**"
      ]
    },
    {
      "cell_type": "code",
      "source": [
        "beta = 0.1\n",
        "kappa = 0.5\n",
        "gamma = 0.1\n",
        "lambda1 = -0.05\n",
        "lambda2 = -0.05\n",
        "sigma1 = 0.025\n",
        "sigma2 = 0.02\n",
        "rho = -0.5\n",
        "h0 = 0.2\n",
        "r0 = 0.027\n",
        "tau = 10\n",
        "\n",
        "bond_price = hw_bond_price(beta, kappa, gamma, lambda1, lambda2, sigma1, sigma2, rho,r0, h0, tau)\n",
        "bond_price"
      ],
      "metadata": {
        "colab": {
          "base_uri": "https://localhost:8080/"
        },
        "id": "-m678hS6hcQ3",
        "outputId": "9494d5fa-4082-422e-80b6-c7014a607914"
      },
      "execution_count": null,
      "outputs": [
        {
          "output_type": "execute_result",
          "data": {
            "text/plain": [
              "np.float64(8.336756640109998e-19)"
            ]
          },
          "metadata": {},
          "execution_count": 22
        }
      ]
    },
    {
      "cell_type": "markdown",
      "metadata": {
        "id": "B-XBAxmPa4d9"
      },
      "source": [
        "Import data"
      ]
    },
    {
      "cell_type": "code",
      "execution_count": null,
      "metadata": {
        "id": "nVpuUv0UaVyA"
      },
      "outputs": [],
      "source": [
        "path=\"/content/drive/MyDrive/Master thesis/Interest_rate_data/zero_bond_prices.xlsx\"\n",
        "sheet_name= \"paneldata\"\n",
        "df_bond_prices =pd.read_excel(path,sheet_name)\n",
        "df_bond_prices"
      ]
    },
    {
      "cell_type": "code",
      "execution_count": 36,
      "metadata": {
        "id": "HH6k4OB1caN6"
      },
      "outputs": [],
      "source": [
        "r0 = df_bond_prices['euribor1m'].to_numpy('float')\n",
        "tau = df_bond_prices['maturity'].to_numpy('float')\n",
        "P = df_bond_prices['price'].to_numpy('float')\n",
        "\n",
        "params = {\"h0\": {\"x0\": 0.03, \"lbub\": [-1,1]},\n",
        "          \"kappa\": {\"x0\": 1, \"lbub\": [1e-3,5]},\n",
        "          \"gamma\": {\"x0\": 0.03, \"lbub\": [-1,1]},\n",
        "          \"sigma1\": {\"x0\": 0.02, \"lbub\": [1e-2,0.2]},\n",
        "          \"sigma2\": {\"x0\": 0.05, \"lbub\": [1e-2,1]},\n",
        "          \"rho\": {\"x0\": -0.8, \"lbub\": [-1,1]},\n",
        "          \"lambda1\": {\"x0\": -0.05, \"lbub\": [-1,0]},\n",
        "          \"lambda2\": {\"x0\": -0.05, \"lbub\": [-1,0]},\n",
        "          \"beta\": {\"x0\": 0.05, \"lbub\": [-1,1]},\n",
        "          }\n",
        "\n",
        "x0 = [param[\"x0\"] for key, param in params.items()]\n",
        "bnds = [param[\"lbub\"] for key, param in params.items()]\n",
        "\n",
        "def SqErr(x):\n",
        "    h0, kappa, gamma, sigma1,sigma2, rho, lambda1, lambda2,beta = [param for param in x]\n",
        "\n",
        "    # Rectengular integreation\n",
        "    err = np.sum( (P-hw_bond_price(beta, kappa, gamma, lambda1, lambda2, sigma1, sigma2, rho,r0, h0, tau))**2 /len(P) )\n",
        "\n",
        "    # Zero penalty term - no good guesses for parameters\n",
        "    pen = 0\n",
        "\n",
        "    return err + pen"
      ]
    },
    {
      "cell_type": "code",
      "execution_count": null,
      "metadata": {
        "id": "baGTtQZIcqjf"
      },
      "outputs": [],
      "source": [
        "result = minimize(SqErr, x0, tol = 1e-3, method='SLSQP', options={'maxiter': 1e4 }, bounds=bnds)\n",
        "result"
      ]
    },
    {
      "cell_type": "code",
      "source": [
        "h0, kappa, gamma, sigma1,sigma2, rho, lambda1,lambda2, beta = [param for param in result.x]\n",
        "print(f\"h0: {h0}\")\n",
        "print(f\"kappa: {kappa}\")\n",
        "print(f\"gamma: {gamma}\")\n",
        "print(f\"sigma1: {sigma1}\")\n",
        "print(f\"sigma2: {sigma2}\")\n",
        "print(f\"rho: {rho}\")\n",
        "print(f\"lambda1: {lambda1}\")\n",
        "print(f\"lambda2: {lambda2}\")\n",
        "print(f\"beta: {beta}\")"
      ],
      "metadata": {
        "colab": {
          "base_uri": "https://localhost:8080/"
        },
        "id": "3eVZvXgk-fm_",
        "outputId": "535ee6be-e419-456e-8ccf-3d48848e2686"
      },
      "execution_count": 38,
      "outputs": [
        {
          "output_type": "stream",
          "name": "stdout",
          "text": [
            "h0: -0.9999998770467248\n",
            "kappa: 4.999337700205912\n",
            "gamma: -0.21893737324740867\n",
            "sigma1: 0.010025186989007319\n",
            "sigma2: 0.010000066523395912\n",
            "rho: -0.9998353041461688\n",
            "lambda1: -0.9998675864737375\n",
            "lambda2: -1.433413829768022e-08\n",
            "beta: 0.3103330099703502\n"
          ]
        }
      ]
    },
    {
      "cell_type": "code",
      "execution_count": 39,
      "metadata": {
        "colab": {
          "base_uri": "https://localhost:8080/",
          "height": 423
        },
        "id": "spX4viZCcnEW",
        "outputId": "e0c4ba21-7172-4e63-bfa4-c30f59d527a6"
      },
      "outputs": [
        {
          "output_type": "execute_result",
          "data": {
            "text/plain": [
              "            date  maturity  euribor1m      price  heston_price\n",
              "0     1998-12-30         1    0.03258  97.030856      2.445911\n",
              "1     1999-01-04         1    0.03242  97.068530      2.445989\n",
              "2     1999-01-05         1    0.03233  97.096806      2.446033\n",
              "3     1999-01-06         1    0.03226  97.096806      2.446067\n",
              "4     1999-01-07         1    0.03224  97.115665      2.446077\n",
              "...          ...       ...        ...        ...           ...\n",
              "69565 2025-02-17        10    0.02616  77.891564    128.675788\n",
              "69566 2025-02-18        10    0.02624  77.815636    128.673729\n",
              "69567 2025-02-19        10    0.02641  77.664022    128.669354\n",
              "69568 2025-02-20        10    0.02653  77.437211    128.666265\n",
              "69569 2025-02-21        10    0.02653  77.815636    128.666265\n",
              "\n",
              "[69570 rows x 5 columns]"
            ],
            "text/html": [
              "\n",
              "  <div id=\"df-97eb70be-a0bd-42ee-98aa-645b0d825c39\" class=\"colab-df-container\">\n",
              "    <div>\n",
              "<style scoped>\n",
              "    .dataframe tbody tr th:only-of-type {\n",
              "        vertical-align: middle;\n",
              "    }\n",
              "\n",
              "    .dataframe tbody tr th {\n",
              "        vertical-align: top;\n",
              "    }\n",
              "\n",
              "    .dataframe thead th {\n",
              "        text-align: right;\n",
              "    }\n",
              "</style>\n",
              "<table border=\"1\" class=\"dataframe\">\n",
              "  <thead>\n",
              "    <tr style=\"text-align: right;\">\n",
              "      <th></th>\n",
              "      <th>date</th>\n",
              "      <th>maturity</th>\n",
              "      <th>euribor1m</th>\n",
              "      <th>price</th>\n",
              "      <th>heston_price</th>\n",
              "    </tr>\n",
              "  </thead>\n",
              "  <tbody>\n",
              "    <tr>\n",
              "      <th>0</th>\n",
              "      <td>1998-12-30</td>\n",
              "      <td>1</td>\n",
              "      <td>0.03258</td>\n",
              "      <td>97.030856</td>\n",
              "      <td>2.445911</td>\n",
              "    </tr>\n",
              "    <tr>\n",
              "      <th>1</th>\n",
              "      <td>1999-01-04</td>\n",
              "      <td>1</td>\n",
              "      <td>0.03242</td>\n",
              "      <td>97.068530</td>\n",
              "      <td>2.445989</td>\n",
              "    </tr>\n",
              "    <tr>\n",
              "      <th>2</th>\n",
              "      <td>1999-01-05</td>\n",
              "      <td>1</td>\n",
              "      <td>0.03233</td>\n",
              "      <td>97.096806</td>\n",
              "      <td>2.446033</td>\n",
              "    </tr>\n",
              "    <tr>\n",
              "      <th>3</th>\n",
              "      <td>1999-01-06</td>\n",
              "      <td>1</td>\n",
              "      <td>0.03226</td>\n",
              "      <td>97.096806</td>\n",
              "      <td>2.446067</td>\n",
              "    </tr>\n",
              "    <tr>\n",
              "      <th>4</th>\n",
              "      <td>1999-01-07</td>\n",
              "      <td>1</td>\n",
              "      <td>0.03224</td>\n",
              "      <td>97.115665</td>\n",
              "      <td>2.446077</td>\n",
              "    </tr>\n",
              "    <tr>\n",
              "      <th>...</th>\n",
              "      <td>...</td>\n",
              "      <td>...</td>\n",
              "      <td>...</td>\n",
              "      <td>...</td>\n",
              "      <td>...</td>\n",
              "    </tr>\n",
              "    <tr>\n",
              "      <th>69565</th>\n",
              "      <td>2025-02-17</td>\n",
              "      <td>10</td>\n",
              "      <td>0.02616</td>\n",
              "      <td>77.891564</td>\n",
              "      <td>128.675788</td>\n",
              "    </tr>\n",
              "    <tr>\n",
              "      <th>69566</th>\n",
              "      <td>2025-02-18</td>\n",
              "      <td>10</td>\n",
              "      <td>0.02624</td>\n",
              "      <td>77.815636</td>\n",
              "      <td>128.673729</td>\n",
              "    </tr>\n",
              "    <tr>\n",
              "      <th>69567</th>\n",
              "      <td>2025-02-19</td>\n",
              "      <td>10</td>\n",
              "      <td>0.02641</td>\n",
              "      <td>77.664022</td>\n",
              "      <td>128.669354</td>\n",
              "    </tr>\n",
              "    <tr>\n",
              "      <th>69568</th>\n",
              "      <td>2025-02-20</td>\n",
              "      <td>10</td>\n",
              "      <td>0.02653</td>\n",
              "      <td>77.437211</td>\n",
              "      <td>128.666265</td>\n",
              "    </tr>\n",
              "    <tr>\n",
              "      <th>69569</th>\n",
              "      <td>2025-02-21</td>\n",
              "      <td>10</td>\n",
              "      <td>0.02653</td>\n",
              "      <td>77.815636</td>\n",
              "      <td>128.666265</td>\n",
              "    </tr>\n",
              "  </tbody>\n",
              "</table>\n",
              "<p>69570 rows × 5 columns</p>\n",
              "</div>\n",
              "    <div class=\"colab-df-buttons\">\n",
              "\n",
              "  <div class=\"colab-df-container\">\n",
              "    <button class=\"colab-df-convert\" onclick=\"convertToInteractive('df-97eb70be-a0bd-42ee-98aa-645b0d825c39')\"\n",
              "            title=\"Convert this dataframe to an interactive table.\"\n",
              "            style=\"display:none;\">\n",
              "\n",
              "  <svg xmlns=\"http://www.w3.org/2000/svg\" height=\"24px\" viewBox=\"0 -960 960 960\">\n",
              "    <path d=\"M120-120v-720h720v720H120Zm60-500h600v-160H180v160Zm220 220h160v-160H400v160Zm0 220h160v-160H400v160ZM180-400h160v-160H180v160Zm440 0h160v-160H620v160ZM180-180h160v-160H180v160Zm440 0h160v-160H620v160Z\"/>\n",
              "  </svg>\n",
              "    </button>\n",
              "\n",
              "  <style>\n",
              "    .colab-df-container {\n",
              "      display:flex;\n",
              "      gap: 12px;\n",
              "    }\n",
              "\n",
              "    .colab-df-convert {\n",
              "      background-color: #E8F0FE;\n",
              "      border: none;\n",
              "      border-radius: 50%;\n",
              "      cursor: pointer;\n",
              "      display: none;\n",
              "      fill: #1967D2;\n",
              "      height: 32px;\n",
              "      padding: 0 0 0 0;\n",
              "      width: 32px;\n",
              "    }\n",
              "\n",
              "    .colab-df-convert:hover {\n",
              "      background-color: #E2EBFA;\n",
              "      box-shadow: 0px 1px 2px rgba(60, 64, 67, 0.3), 0px 1px 3px 1px rgba(60, 64, 67, 0.15);\n",
              "      fill: #174EA6;\n",
              "    }\n",
              "\n",
              "    .colab-df-buttons div {\n",
              "      margin-bottom: 4px;\n",
              "    }\n",
              "\n",
              "    [theme=dark] .colab-df-convert {\n",
              "      background-color: #3B4455;\n",
              "      fill: #D2E3FC;\n",
              "    }\n",
              "\n",
              "    [theme=dark] .colab-df-convert:hover {\n",
              "      background-color: #434B5C;\n",
              "      box-shadow: 0px 1px 3px 1px rgba(0, 0, 0, 0.15);\n",
              "      filter: drop-shadow(0px 1px 2px rgba(0, 0, 0, 0.3));\n",
              "      fill: #FFFFFF;\n",
              "    }\n",
              "  </style>\n",
              "\n",
              "    <script>\n",
              "      const buttonEl =\n",
              "        document.querySelector('#df-97eb70be-a0bd-42ee-98aa-645b0d825c39 button.colab-df-convert');\n",
              "      buttonEl.style.display =\n",
              "        google.colab.kernel.accessAllowed ? 'block' : 'none';\n",
              "\n",
              "      async function convertToInteractive(key) {\n",
              "        const element = document.querySelector('#df-97eb70be-a0bd-42ee-98aa-645b0d825c39');\n",
              "        const dataTable =\n",
              "          await google.colab.kernel.invokeFunction('convertToInteractive',\n",
              "                                                    [key], {});\n",
              "        if (!dataTable) return;\n",
              "\n",
              "        const docLinkHtml = 'Like what you see? Visit the ' +\n",
              "          '<a target=\"_blank\" href=https://colab.research.google.com/notebooks/data_table.ipynb>data table notebook</a>'\n",
              "          + ' to learn more about interactive tables.';\n",
              "        element.innerHTML = '';\n",
              "        dataTable['output_type'] = 'display_data';\n",
              "        await google.colab.output.renderOutput(dataTable, element);\n",
              "        const docLink = document.createElement('div');\n",
              "        docLink.innerHTML = docLinkHtml;\n",
              "        element.appendChild(docLink);\n",
              "      }\n",
              "    </script>\n",
              "  </div>\n",
              "\n",
              "\n",
              "<div id=\"df-1569292d-09b8-4717-8f9f-ac7e2da019a4\">\n",
              "  <button class=\"colab-df-quickchart\" onclick=\"quickchart('df-1569292d-09b8-4717-8f9f-ac7e2da019a4')\"\n",
              "            title=\"Suggest charts\"\n",
              "            style=\"display:none;\">\n",
              "\n",
              "<svg xmlns=\"http://www.w3.org/2000/svg\" height=\"24px\"viewBox=\"0 0 24 24\"\n",
              "     width=\"24px\">\n",
              "    <g>\n",
              "        <path d=\"M19 3H5c-1.1 0-2 .9-2 2v14c0 1.1.9 2 2 2h14c1.1 0 2-.9 2-2V5c0-1.1-.9-2-2-2zM9 17H7v-7h2v7zm4 0h-2V7h2v10zm4 0h-2v-4h2v4z\"/>\n",
              "    </g>\n",
              "</svg>\n",
              "  </button>\n",
              "\n",
              "<style>\n",
              "  .colab-df-quickchart {\n",
              "      --bg-color: #E8F0FE;\n",
              "      --fill-color: #1967D2;\n",
              "      --hover-bg-color: #E2EBFA;\n",
              "      --hover-fill-color: #174EA6;\n",
              "      --disabled-fill-color: #AAA;\n",
              "      --disabled-bg-color: #DDD;\n",
              "  }\n",
              "\n",
              "  [theme=dark] .colab-df-quickchart {\n",
              "      --bg-color: #3B4455;\n",
              "      --fill-color: #D2E3FC;\n",
              "      --hover-bg-color: #434B5C;\n",
              "      --hover-fill-color: #FFFFFF;\n",
              "      --disabled-bg-color: #3B4455;\n",
              "      --disabled-fill-color: #666;\n",
              "  }\n",
              "\n",
              "  .colab-df-quickchart {\n",
              "    background-color: var(--bg-color);\n",
              "    border: none;\n",
              "    border-radius: 50%;\n",
              "    cursor: pointer;\n",
              "    display: none;\n",
              "    fill: var(--fill-color);\n",
              "    height: 32px;\n",
              "    padding: 0;\n",
              "    width: 32px;\n",
              "  }\n",
              "\n",
              "  .colab-df-quickchart:hover {\n",
              "    background-color: var(--hover-bg-color);\n",
              "    box-shadow: 0 1px 2px rgba(60, 64, 67, 0.3), 0 1px 3px 1px rgba(60, 64, 67, 0.15);\n",
              "    fill: var(--button-hover-fill-color);\n",
              "  }\n",
              "\n",
              "  .colab-df-quickchart-complete:disabled,\n",
              "  .colab-df-quickchart-complete:disabled:hover {\n",
              "    background-color: var(--disabled-bg-color);\n",
              "    fill: var(--disabled-fill-color);\n",
              "    box-shadow: none;\n",
              "  }\n",
              "\n",
              "  .colab-df-spinner {\n",
              "    border: 2px solid var(--fill-color);\n",
              "    border-color: transparent;\n",
              "    border-bottom-color: var(--fill-color);\n",
              "    animation:\n",
              "      spin 1s steps(1) infinite;\n",
              "  }\n",
              "\n",
              "  @keyframes spin {\n",
              "    0% {\n",
              "      border-color: transparent;\n",
              "      border-bottom-color: var(--fill-color);\n",
              "      border-left-color: var(--fill-color);\n",
              "    }\n",
              "    20% {\n",
              "      border-color: transparent;\n",
              "      border-left-color: var(--fill-color);\n",
              "      border-top-color: var(--fill-color);\n",
              "    }\n",
              "    30% {\n",
              "      border-color: transparent;\n",
              "      border-left-color: var(--fill-color);\n",
              "      border-top-color: var(--fill-color);\n",
              "      border-right-color: var(--fill-color);\n",
              "    }\n",
              "    40% {\n",
              "      border-color: transparent;\n",
              "      border-right-color: var(--fill-color);\n",
              "      border-top-color: var(--fill-color);\n",
              "    }\n",
              "    60% {\n",
              "      border-color: transparent;\n",
              "      border-right-color: var(--fill-color);\n",
              "    }\n",
              "    80% {\n",
              "      border-color: transparent;\n",
              "      border-right-color: var(--fill-color);\n",
              "      border-bottom-color: var(--fill-color);\n",
              "    }\n",
              "    90% {\n",
              "      border-color: transparent;\n",
              "      border-bottom-color: var(--fill-color);\n",
              "    }\n",
              "  }\n",
              "</style>\n",
              "\n",
              "  <script>\n",
              "    async function quickchart(key) {\n",
              "      const quickchartButtonEl =\n",
              "        document.querySelector('#' + key + ' button');\n",
              "      quickchartButtonEl.disabled = true;  // To prevent multiple clicks.\n",
              "      quickchartButtonEl.classList.add('colab-df-spinner');\n",
              "      try {\n",
              "        const charts = await google.colab.kernel.invokeFunction(\n",
              "            'suggestCharts', [key], {});\n",
              "      } catch (error) {\n",
              "        console.error('Error during call to suggestCharts:', error);\n",
              "      }\n",
              "      quickchartButtonEl.classList.remove('colab-df-spinner');\n",
              "      quickchartButtonEl.classList.add('colab-df-quickchart-complete');\n",
              "    }\n",
              "    (() => {\n",
              "      let quickchartButtonEl =\n",
              "        document.querySelector('#df-1569292d-09b8-4717-8f9f-ac7e2da019a4 button');\n",
              "      quickchartButtonEl.style.display =\n",
              "        google.colab.kernel.accessAllowed ? 'block' : 'none';\n",
              "    })();\n",
              "  </script>\n",
              "</div>\n",
              "\n",
              "  <div id=\"id_32ac9383-14f2-4f6c-bcc6-33f39131fcf8\">\n",
              "    <style>\n",
              "      .colab-df-generate {\n",
              "        background-color: #E8F0FE;\n",
              "        border: none;\n",
              "        border-radius: 50%;\n",
              "        cursor: pointer;\n",
              "        display: none;\n",
              "        fill: #1967D2;\n",
              "        height: 32px;\n",
              "        padding: 0 0 0 0;\n",
              "        width: 32px;\n",
              "      }\n",
              "\n",
              "      .colab-df-generate:hover {\n",
              "        background-color: #E2EBFA;\n",
              "        box-shadow: 0px 1px 2px rgba(60, 64, 67, 0.3), 0px 1px 3px 1px rgba(60, 64, 67, 0.15);\n",
              "        fill: #174EA6;\n",
              "      }\n",
              "\n",
              "      [theme=dark] .colab-df-generate {\n",
              "        background-color: #3B4455;\n",
              "        fill: #D2E3FC;\n",
              "      }\n",
              "\n",
              "      [theme=dark] .colab-df-generate:hover {\n",
              "        background-color: #434B5C;\n",
              "        box-shadow: 0px 1px 3px 1px rgba(0, 0, 0, 0.15);\n",
              "        filter: drop-shadow(0px 1px 2px rgba(0, 0, 0, 0.3));\n",
              "        fill: #FFFFFF;\n",
              "      }\n",
              "    </style>\n",
              "    <button class=\"colab-df-generate\" onclick=\"generateWithVariable('df_bond_prices')\"\n",
              "            title=\"Generate code using this dataframe.\"\n",
              "            style=\"display:none;\">\n",
              "\n",
              "  <svg xmlns=\"http://www.w3.org/2000/svg\" height=\"24px\"viewBox=\"0 0 24 24\"\n",
              "       width=\"24px\">\n",
              "    <path d=\"M7,19H8.4L18.45,9,17,7.55,7,17.6ZM5,21V16.75L18.45,3.32a2,2,0,0,1,2.83,0l1.4,1.43a1.91,1.91,0,0,1,.58,1.4,1.91,1.91,0,0,1-.58,1.4L9.25,21ZM18.45,9,17,7.55Zm-12,3A5.31,5.31,0,0,0,4.9,8.1,5.31,5.31,0,0,0,1,6.5,5.31,5.31,0,0,0,4.9,4.9,5.31,5.31,0,0,0,6.5,1,5.31,5.31,0,0,0,8.1,4.9,5.31,5.31,0,0,0,12,6.5,5.46,5.46,0,0,0,6.5,12Z\"/>\n",
              "  </svg>\n",
              "    </button>\n",
              "    <script>\n",
              "      (() => {\n",
              "      const buttonEl =\n",
              "        document.querySelector('#id_32ac9383-14f2-4f6c-bcc6-33f39131fcf8 button.colab-df-generate');\n",
              "      buttonEl.style.display =\n",
              "        google.colab.kernel.accessAllowed ? 'block' : 'none';\n",
              "\n",
              "      buttonEl.onclick = () => {\n",
              "        google.colab.notebook.generateWithVariable('df_bond_prices');\n",
              "      }\n",
              "      })();\n",
              "    </script>\n",
              "  </div>\n",
              "\n",
              "    </div>\n",
              "  </div>\n"
            ],
            "application/vnd.google.colaboratory.intrinsic+json": {
              "type": "dataframe",
              "variable_name": "df_bond_prices",
              "summary": "{\n  \"name\": \"df_bond_prices\",\n  \"rows\": 69570,\n  \"fields\": [\n    {\n      \"column\": \"date\",\n      \"properties\": {\n        \"dtype\": \"date\",\n        \"min\": \"1997-08-07 00:00:00\",\n        \"max\": \"2025-02-21 00:00:00\",\n        \"num_unique_values\": 6992,\n        \"samples\": [\n          \"2016-09-12 00:00:00\",\n          \"2014-06-24 00:00:00\",\n          \"2018-11-28 00:00:00\"\n        ],\n        \"semantic_type\": \"\",\n        \"description\": \"\"\n      }\n    },\n    {\n      \"column\": \"maturity\",\n      \"properties\": {\n        \"dtype\": \"number\",\n        \"std\": 2,\n        \"min\": 1,\n        \"max\": 10,\n        \"num_unique_values\": 10,\n        \"samples\": [\n          9,\n          2,\n          6\n        ],\n        \"semantic_type\": \"\",\n        \"description\": \"\"\n      }\n    },\n    {\n      \"column\": \"euribor1m\",\n      \"properties\": {\n        \"dtype\": \"number\",\n        \"std\": 0.017447425526570654,\n        \"min\": -0.0064800000000000005,\n        \"max\": 0.05197,\n        \"num_unique_values\": 2550,\n        \"samples\": [\n          0.029289999999999997,\n          0.03319,\n          -0.00582\n        ],\n        \"semantic_type\": \"\",\n        \"description\": \"\"\n      }\n    },\n    {\n      \"column\": \"price\",\n      \"properties\": {\n        \"dtype\": \"number\",\n        \"std\": 11.752705515590206,\n        \"min\": 55.99776022771098,\n        \"max\": 108.91126805994718,\n        \"num_unique_values\": 6361,\n        \"samples\": [\n          85.4160070824735,\n          90.6830472046273,\n          99.6512207274539\n        ],\n        \"semantic_type\": \"\",\n        \"description\": \"\"\n      }\n    },\n    {\n      \"column\": \"heston_price\",\n      \"properties\": {\n        \"dtype\": \"number\",\n        \"std\": 41.15651356328055,\n        \"min\": 2.436506882146095,\n        \"max\": 129.51864349440473,\n        \"num_unique_values\": 25500,\n        \"samples\": [\n          11.18578622317722,\n          29.64445731456869,\n          129.47719867023247\n        ],\n        \"semantic_type\": \"\",\n        \"description\": \"\"\n      }\n    }\n  ]\n}"
            }
          },
          "metadata": {},
          "execution_count": 39
        }
      ],
      "source": [
        "model_bond_prices = hw_bond_price(beta, kappa, gamma, lambda1, lambda2, sigma1, sigma2, rho,r0, h0, tau)\n",
        "df_bond_prices['heston_price'] = model_bond_prices\n",
        "df_bond_prices"
      ]
    },
    {
      "cell_type": "markdown",
      "source": [
        "###3 Factor **CIR**"
      ],
      "metadata": {
        "id": "E8fgEluehwOZ"
      }
    },
    {
      "cell_type": "code",
      "source": [
        "def f_function():\n",
        "  c = calc_c(kappa,sigma,delta_t)\n",
        "  q = calc_q(kappa, theta, sigma)\n",
        "  component1 = c * np.exp(-c * y_t - c * np.exp(-kappa * delta_t) * y_t_minus1)\n",
        "  component2 = (y_t / (y_t_minus1 * np.exp(-kappa * delta_t)))** (0.5 * q)\n",
        "  internal_arguemnt =\n",
        "\n",
        "\n",
        "  return f\n",
        "\n",
        "def calc_c(kappa,sigma,delta_t):\n",
        "  denumerator = 2 * kappa\n",
        "  numerator = sigma**2 * (1 - np-exp(kappa * delta_t))\n",
        "  c = denumerator / numerator\n",
        "  return c\n",
        "\n",
        "def calc_q(kappa, theta, sigma):\n",
        "  q = ((2 * kappa * theta) / sigma**2 ) -1\n",
        "  return q\n",
        "\n",
        "\n",
        "\n"
      ],
      "metadata": {
        "id": "OQHmZMNQh4BQ"
      },
      "execution_count": null,
      "outputs": []
    }
  ],
  "metadata": {
    "colab": {
      "collapsed_sections": [
        "KZ4UmpQ7hXl5"
      ],
      "provenance": []
    },
    "kernelspec": {
      "display_name": "Python 3",
      "name": "python3"
    },
    "language_info": {
      "name": "python"
    }
  },
  "nbformat": 4,
  "nbformat_minor": 0
}